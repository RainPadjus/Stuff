{
 "cells": [
  {
   "cell_type": "code",
   "execution_count": 1,
   "metadata": {},
   "outputs": [],
   "source": [
    "#make fucntion that plots random points on a graph\n",
    "import numpy as np\n",
    "import matplotlib.pyplot as plt\n",
    "import random\n",
    "#generate random points\n",
    "def random_points(n):\n",
    "    x = np.random.rand(n)\n",
    "    y = np.random.rand(n)\n",
    "    return x,y\n",
    "#plot random points\n",
    "def plot_points(x,y):\n",
    "    plt.scatter(x,y)\n",
    "    plt.show()\n",
    "\n",
    "def main():\n",
    "    x,y = random_points(10)\n",
    "    plot_points(x,y)\n"
   ]
  },
  {
   "cell_type": "code",
   "execution_count": 3,
   "metadata": {},
   "outputs": [
    {
     "data": {
      "image/png": "[encoded data removed]",
      "text/plain": [
       "<Figure size 432x288 with 1 Axes>"
      ]
     },
     "metadata": {
      "needs_background": "light"
     },
     "output_type": "display_data"
    }
   ],
   "source": [
    "main()"
   ]
  },
  {
   "cell_type": "code",
   "execution_count": null,
   "metadata": {},
   "outputs": [],
   "source": []
  }
 ],
 "metadata": {
  "kernelspec": {
   "display_name": "Python 3.10.4 64-bit",
   "language": "python",
   "name": "python3"
  },
  "language_info": {
   "codemirror_mode": {
    "name": "ipython",
    "version": 3
   },
   "file_extension": ".py",
   "mimetype": "text/x-python",
   "name": "python",
   "nbconvert_exporter": "python",
   "pygments_lexer": "ipython3",
   "version": "3.10.4"
  },
  "orig_nbformat": 4,
  "vscode": {
   "interpreter": {
    "hash": "2f54c99f2a327974583ab667efcf1029fa0450392121b8645fbca7c5d4df83be"
   }
  }
 },
 "nbformat": 4,
 "nbformat_minor": 2
}
